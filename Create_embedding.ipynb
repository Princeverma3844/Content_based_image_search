{
  "nbformat": 4,
  "nbformat_minor": 0,
  "metadata": {
    "colab": {
      "provenance": []
    },
    "kernelspec": {
      "name": "python3",
      "display_name": "Python 3"
    },
    "language_info": {
      "name": "python"
    }
  },
  "cells": [
    {
      "cell_type": "code",
      "source": [
        "!pip install -U sentence-transformers"
      ],
      "metadata": {
        "id": "iwU5Num4ugWV"
      },
      "execution_count": null,
      "outputs": []
    },
    {
      "cell_type": "code",
      "source": [
        "from sentence_transformers import SentenceTransformer\n",
        "import pickle\n",
        "import pandas as pd\n",
        "\n",
        "model = SentenceTransformer(\"sentence-transformers/all-mpnet-base-v2\")\n",
        "\n",
        "with open(\"descriptions.csv\", \"r\") as f:\n",
        "  lines = f.readlines()\n",
        "\n",
        "lines = [line.strip().split(\",\") for line in lines]\n",
        "\n",
        "for idx, line in enumerate(lines):\n",
        "  lines[idx] = [line[0], \",\".join(line[1:])]\n",
        "\n",
        "df = pd.Dataframe(lines, columns = [\"id\", \"desc\"])\n",
        "embeddings = model.encode(df[\"desc\"].tolist(), show_progress_bar = True)\n",
        "\n",
        "with open(\"embeddings.pkl\", \"wb\") as f:\n",
        "  pickle.dump(embeddings, f)\n",
        "\n",
        "print(embeddings.shape)\n"
      ],
      "metadata": {
        "id": "zYZ8-LwRujSb"
      },
      "execution_count": null,
      "outputs": []
    }
  ]
}