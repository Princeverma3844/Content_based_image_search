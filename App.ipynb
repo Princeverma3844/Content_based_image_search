{
  "nbformat": 4,
  "nbformat_minor": 0,
  "metadata": {
    "colab": {
      "provenance": []
    },
    "kernelspec": {
      "name": "python3",
      "display_name": "Python 3"
    },
    "language_info": {
      "name": "python"
    }
  },
  "cells": [
    {
      "cell_type": "code",
      "source": [
        "\n",
        "import gradio as gr\n",
        "import pickle\n",
        "import faiss\n",
        "import numpy as np\n",
        "from sentence_transformers import SentenceTransformer\n",
        "\n",
        "model = SentenceTranformer(\"sentence-transformers/all-mpnet-base-v2\")\n",
        "\n",
        "with open(\"embeddings.pkl\", \"rb\") as f:\n",
        "  embeddings = pickle.load(f)\n",
        "embeddings = embeddings.astype(\"float32\")\n",
        "\n",
        "embedding_size = embeddings.shape[1]\n",
        "n_clusters = 5\n",
        "num_results = 5\n",
        "\n",
        "quantizer = faiss.IndexFlatIP(embedding_size)\n",
        "index = faiss.IndexIVFFlat(\n",
        "    quantizer, embedding_size, n_clusters, faiss.METRIC_INNER_PRODUCT,\n",
        ")\n",
        "\n",
        "index.train(embeddings)\n",
        "index.add(embeddings)\n",
        "\n",
        "def _search(query):\n",
        "  query_embedding = model.encode(query)\n",
        "  query_embedding = np.array(query_embeedding).astype(\"float32\")\n",
        "  query_embedding = query_embedding.reshape(1, -1)\n",
        "  _, indices = index.search(query_embedding, num_results)\n",
        "  images = [f\"images/{i}.jpg\" for i in indices[0]]\n",
        "  return images\n",
        "\n",
        "with gr.Blocks() as demo:\n",
        "  query = gr.Textbox(lines = 1, label = \"search query\")\n",
        "  outputs = gr.Gallery(preview = True)\n",
        "  submit = gr.Button(value = \"search\")\n",
        "  submit.click(_search, inputs = query, outputs = outputs)\n",
        "\n",
        "demo.launch()"
      ],
      "metadata": {
        "id": "zYZ8-LwRujSb"
      },
      "execution_count": null,
      "outputs": []
    }
  ]
}